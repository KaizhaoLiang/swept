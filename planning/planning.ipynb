{
 "cells": [
  {
   "cell_type": "code",
   "execution_count": 1,
   "metadata": {},
   "outputs": [],
   "source": [
    "import numpy as np\n",
    "import klampt\n",
    "import matplotlib.pyplot as plt\n",
    "import cv2\n",
    "\n",
    "%matplotlib inline"
   ]
  },
  {
   "cell_type": "code",
   "execution_count": 2,
   "metadata": {},
   "outputs": [],
   "source": [
    "def load_image(path, threshold = int(255/2)):\n",
    "    '''\n",
    "    Loads an image using OpenCV, and converts it to a binary image.\n",
    "    '''\n",
    "    img = cv2.imread(path, cv2.IMREAD_GRAYSCALE)\n",
    "    # convert to binary image (obstacle = 255, non-obstacle = 0)\n",
    "    img = img > threshold\n",
    "    #_, img = cv2.threshold(img, threshold, 255, cv2.THRESH_BINARY)\n",
    "    return img"
   ]
  },
  {
   "cell_type": "code",
   "execution_count": 6,
   "metadata": {},
   "outputs": [
    {
     "data": {
      "text/plain": [
       "<matplotlib.image.AxesImage at 0x7fc04c865b38>"
      ]
     },
     "execution_count": 6,
     "metadata": {},
     "output_type": "execute_result"
    },
    {
     "data": {
      "image/png": "[encoded data removed]",
      "text/plain": [
       "<Figure size 432x288 with 1 Axes>"
      ]
     },
     "metadata": {
      "needs_background": "light"
     },
     "output_type": "display_data"
    }
   ],
   "source": [
    "img = load_image(\"test_2.jpg\")\n",
    "plt.imshow(img)"
   ]
  },
  {
   "cell_type": "code",
   "execution_count": 7,
   "metadata": {
    "scrolled": true
   },
   "outputs": [],
   "source": [
    "def get_connected_components(column):\n",
    "    \"\"\"\n",
    "    Given a column of the image, calculates the connected components of the column.\n",
    "    \"\"\"\n",
    "    component_start_idx = 0\n",
    "    rv = []\n",
    "    inside_obstacle = False\n",
    "    for i in range(1, len(column)):\n",
    "        \n",
    "        # We have just hit an obstacle. The connected component ends here\n",
    "        if not inside_obstacle and not column[i] and column[i-1]:\n",
    "            component = (component_start_idx, i)\n",
    "            rv.append(component)\n",
    "            inside_obstacle = True\n",
    "        \n",
    "        # We are not inside an obstacle anymore! Reset flag and the component_start_idx\n",
    "        if inside_obstacle and column[i]:\n",
    "            inside_obstacle = False\n",
    "            component_start_idx = i\n",
    "    rv.append((component_start_idx, len(column)))\n",
    "    return rv\n",
    "\n",
    "\n",
    "def calculate_connectivity_table(prev_cc, curr_cc):\n",
    "    \"\"\"\n",
    "    Calculates the following table:\n",
    "    rv[i, j] = True if prev_cc[i] and curr_cc[j] are connected\n",
    "    otherwise rv[i, j] = False\n",
    "    \"\"\"\n",
    "    rv = np.zeros((len(prev_cc), len(curr_cc)))\n",
    "    for i in range(len(prev_cc)):\n",
    "        prev = prev_cc[i]\n",
    "        for j in range(len(curr_cc)):\n",
    "            curr = curr_cc[j]\n",
    "            \n",
    "            if min(prev[1], curr[1]) > max(prev[0], curr[0]):\n",
    "                rv[i, j] = True\n",
    "            else:\n",
    "                rv[i, j] = False\n",
    "    return rv\n",
    "\n",
    "\n",
    "def partition_image(image):\n",
    "    H, W = image.shape\n",
    "    partitioned_image = np.zeros(image.shape, dtype=int)\n",
    "    \n",
    "    prev_cc = None\n",
    "    prev_component_values = None\n",
    "    num_cells = 0\n",
    "    \n",
    "    # Sweep left to right\n",
    "    for i in range(W):\n",
    "        curr_col = image[:, i]\n",
    "        \n",
    "        # get the connected components of the column\n",
    "        curr_cc = get_connected_components(curr_col)\n",
    "        \n",
    "        # first iteration, start a new component\n",
    "        if i == 0:\n",
    "            num_cells += 1\n",
    "            curr_component_values = [num_cells for _ in range(len(curr_cc))]\n",
    "        else:\n",
    "            curr_component_values = [0 for _ in range(len(curr_cc))]\n",
    "            connected = calculate_connectivity_table(prev_cc, curr_cc)\n",
    "            \n",
    "            for j in range(len(prev_cc)):\n",
    "                # If the prev_cc[j] is connected to exactly one of the components in curr_cc,\n",
    "                # just copy the previous component values over for that connected component\n",
    "                if np.sum(connected[j, :]) == 1:\n",
    "                    for k in range(len(curr_cc)):\n",
    "                        if connected[j, k]:\n",
    "                            curr_component_values[k] = prev_component_values[j]\n",
    "                # prev_cc[j] is connected to multiple components in curr_cc.\n",
    "                # That means this is an IN event (we have hit a polygon).\n",
    "                elif np.sum(connected[j, :]) > 1:\n",
    "                    for k in range(len(curr_cc)):\n",
    "                        if connected[j, k]:\n",
    "                            num_cells += 1\n",
    "                            curr_component_values[k] = num_cells\n",
    "                            \n",
    "            for j in range(len(curr_cc)):\n",
    "                # curr_cc[j] is connected to multiple components in prev_cc.\n",
    "                # That means that this is an OUT event (we have just left a polygon).\n",
    "                if np.sum(connected[:, j]) > 1:\n",
    "                    num_cells += 1\n",
    "                    curr_component_values[j] = num_cells\n",
    "        \n",
    "        \n",
    "        # set the values for each component for the current column\n",
    "        for j in range(len(curr_cc)):\n",
    "            component = curr_cc[j]\n",
    "            component_value = curr_component_values[j]\n",
    "            partitioned_image[component[0] : component[1], i] = component_value\n",
    "        \n",
    "        prev_cc = curr_cc\n",
    "        prev_component_values = curr_component_values\n",
    "    return partitioned_image\n",
    "        "
   ]
  },
  {
   "cell_type": "code",
   "execution_count": 8,
   "metadata": {
    "scrolled": false
   },
   "outputs": [
    {
     "data": {
      "text/plain": [
       "<matplotlib.image.AxesImage at 0x7fc04c7ca7b8>"
      ]
     },
     "execution_count": 8,
     "metadata": {},
     "output_type": "execute_result"
    },
    {
     "data": {
      "image/png": "[encoded data removed]",
      "text/plain": [
       "<Figure size 432x288 with 1 Axes>"
      ]
     },
     "metadata": {
      "needs_background": "light"
     },
     "output_type": "display_data"
    }
   ],
   "source": [
    "partitioned_img = partition_image(img)\n",
    "plt.imshow(partitioned_img)"
   ]
  }
 ],
 "metadata": {
  "kernelspec": {
   "display_name": "Python 3",
   "language": "python",
   "name": "python3"
  },
  "language_info": {
   "codemirror_mode": {
    "name": "ipython",
    "version": 3
   },
   "file_extension": ".py",
   "mimetype": "text/x-python",
   "name": "python",
   "nbconvert_exporter": "python",
   "pygments_lexer": "ipython3",
   "version": "3.6.9"
  }
 },
 "nbformat": 4,
 "nbformat_minor": 2
}

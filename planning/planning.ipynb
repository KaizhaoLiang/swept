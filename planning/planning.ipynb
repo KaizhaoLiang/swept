{
 "cells": [
  {
   "cell_type": "code",
   "execution_count": 1,
   "metadata": {},
   "outputs": [],
   "source": [
    "import numpy as np\n",
    "import klampt\n",
    "import matplotlib.pyplot as plt\n",
    "import cv2\n",
    "\n",
    "%matplotlib inline"
   ]
  },
  {
   "cell_type": "code",
   "execution_count": 2,
   "metadata": {},
   "outputs": [],
   "source": [
    "def load_image(path, threshold = int(255/2)):\n",
    "    '''\n",
    "    Loads an image using OpenCV, and converts it to a binary image.\n",
    "    '''\n",
    "    img = cv2.imread(path, cv2.IMREAD_GRAYSCALE)\n",
    "    # convert to binary image (obstacle = 255, non-obstacle = 0)\n",
    "    img = img > threshold\n",
    "    #_, img = cv2.threshold(img, threshold, 255, cv2.THRESH_BINARY)\n",
    "    return img"
   ]
  },
  {
   "cell_type": "code",
   "execution_count": 3,
   "metadata": {},
   "outputs": [
    {
     "data": {
      "text/plain": [
       "<matplotlib.image.AxesImage at 0x7f72d0dcba58>"
      ]
     },
     "execution_count": 3,
     "metadata": {},
     "output_type": "execute_result"
    },
    {
     "data": {
      "image/png": "[encoded data removed]",
      "text/plain": [
       "<Figure size 432x288 with 1 Axes>"
      ]
     },
     "metadata": {
      "needs_background": "light"
     },
     "output_type": "display_data"
    }
   ],
   "source": [
    "img = load_image(\"test_1.jpg\")\n",
    "plt.imshow(img)"
   ]
  },
  {
   "cell_type": "code",
   "execution_count": 4,
   "metadata": {
    "scrolled": true
   },
   "outputs": [],
   "source": [
    "class Component:\n",
    "    \n",
    "    def __init__(self):\n",
    "        self.id = None\n",
    "        \n",
    "        # left and right bounds of the component\n",
    "        self.x_min = None\n",
    "        self.x_max = None\n",
    "        \n",
    "        # center of the component\n",
    "        self.center = [None, None]\n",
    "        \n",
    "        # the y coordinates of the left bound of the component\n",
    "        # the x coordinates of all these points are x_min\n",
    "        self.left = []\n",
    "        # similar as left\n",
    "        self.right = []\n",
    "        \n",
    "        # the x-y coordinates of the upper bound of the component\n",
    "        # ceiling[x] = y\n",
    "        self.ceiling = {}\n",
    "        # similar as ceiling\n",
    "        self.floor = {}\n",
    "        \n",
    "    def __repr__(self):\n",
    "        return \"Center: {}\".format(self.center)\n",
    "    \n",
    "    def plot(self, plt):\n",
    "        xs = []\n",
    "        ys = []\n",
    "        \n",
    "        # points on the boundary\n",
    "        for y in self.left:\n",
    "            xs.append(self.x_min)\n",
    "            ys.append(y)\n",
    "        for y in self.right:\n",
    "            xs.append(self.x_max)\n",
    "            ys.append(y)\n",
    "        for x in self.ceiling:\n",
    "            xs.append(x)\n",
    "            ys.append(self.ceiling[x])\n",
    "        for x in self.floor:\n",
    "            xs.append(x)\n",
    "            ys.append(self.floor[x])\n",
    "           \n",
    "        # center point\n",
    "        xs.append(self.center[0])\n",
    "        ys.append(self.center[1])\n",
    "        \n",
    "        plt.scatter(xs, ys)\n",
    "        \n",
    "\n",
    "def get_column_components(column):\n",
    "    \"\"\"\n",
    "    Given a column of the image, calculates the connected components of the column.\n",
    "    For example, if there is an obstacle at column[200:300], and the column range is 0 -> 600,\n",
    "    this function will return [(0, 200), (300, 600)]\n",
    "    \"\"\"\n",
    "    component_start_idx = 0\n",
    "    rv = []\n",
    "    inside_obstacle = False\n",
    "    for i in range(1, len(column)):\n",
    "        \n",
    "        # We have just hit an obstacle. The connected component ends here\n",
    "        if not inside_obstacle and not column[i] and column[i-1]:\n",
    "            component = (component_start_idx, i)\n",
    "            rv.append(component)\n",
    "            inside_obstacle = True\n",
    "        \n",
    "        # We are not inside an obstacle anymore! Reset flag and the component_start_idx\n",
    "        if inside_obstacle and column[i]:\n",
    "            inside_obstacle = False\n",
    "            component_start_idx = i\n",
    "    rv.append((component_start_idx, len(column)))\n",
    "    return rv\n",
    "\n",
    "\n",
    "def calculate_components(partitioned_image, num_components):\n",
    "    \"\"\"\n",
    "    Given the partitioned image and the number of components, this will calculate a list of \n",
    "    the Component class (at the top).\n",
    "    \"\"\"\n",
    "    rv = []\n",
    "    H, W = partitioned_image.shape\n",
    "    # ignore component 0 since that is the obstacles\n",
    "    for i in range(1, num_components+1):\n",
    "        component = Component()\n",
    "        component.x_min = W-1\n",
    "        component.x_max = 0\n",
    "        component.id = i\n",
    "        for y in range(H):\n",
    "            for x in range(W):\n",
    "                if partitioned_image[y, x] != i:\n",
    "                    continue\n",
    "                if x < component.x_min:\n",
    "                    component.x_min = x\n",
    "                    component.left = [y]\n",
    "                elif x == component.x_min:\n",
    "                    component.left.append(y)\n",
    "\n",
    "                if x > component.x_max:\n",
    "                    component.x_max = x\n",
    "                    component.right = [y]\n",
    "                elif x == component.x_max:\n",
    "                    component.right.append(y)\n",
    "\n",
    "                if x not in component.ceiling or y > component.ceiling[x]:\n",
    "                    component.ceiling[x] = y\n",
    "\n",
    "                if x not in component.floor or y < component.floor[x]:\n",
    "                    component.floor[x] = y\n",
    "        \n",
    "        center_x = int((component.x_max + component.x_min)/2)\n",
    "        center_y = (component.ceiling[center_x] + component.floor[center_x])/2\n",
    "        component.center = (center_x, int(center_y))\n",
    "        rv.append(component)\n",
    "    \n",
    "    return rv\n",
    "\n",
    "\n",
    "def calculate_connectivity_table(prev_cc, curr_cc):\n",
    "    \"\"\"\n",
    "    Calculates the following table:\n",
    "    rv[i, j] = True if prev_cc[i] and curr_cc[j] are connected\n",
    "    otherwise rv[i, j] = False\n",
    "    \"\"\"\n",
    "    rv = np.zeros((len(prev_cc), len(curr_cc)))\n",
    "    for i in range(len(prev_cc)):\n",
    "        prev = prev_cc[i]\n",
    "        for j in range(len(curr_cc)):\n",
    "            curr = curr_cc[j]\n",
    "            \n",
    "            if min(prev[1], curr[1]) > max(prev[0], curr[0]):\n",
    "                rv[i, j] = True\n",
    "            else:\n",
    "                rv[i, j] = False\n",
    "    return rv\n",
    "\n",
    "def partition_image(image):\n",
    "    H, W = image.shape\n",
    "    partitioned_image = np.zeros(image.shape, dtype=int)\n",
    "    \n",
    "    prev_cc = None\n",
    "    prev_component_values = None\n",
    "    num_components = 0\n",
    "    \n",
    "    # Sweep left to right\n",
    "    for i in range(W):\n",
    "        curr_col = image[:, i]\n",
    "        \n",
    "        # get the connected components of the column\n",
    "        curr_cc = get_column_components(curr_col)\n",
    "        \n",
    "        # first iteration, start a new component\n",
    "        if i == 0:\n",
    "            num_components += 1\n",
    "            curr_component_values = [num_components for _ in range(len(curr_cc))]\n",
    "        else:\n",
    "            curr_component_values = [0 for _ in range(len(curr_cc))]\n",
    "            connected = calculate_connectivity_table(prev_cc, curr_cc)\n",
    "            \n",
    "            for j in range(len(prev_cc)):\n",
    "                # If the prev_cc[j] is connected to exactly one of the components in curr_cc,\n",
    "                # just copy the previous component values over for that connected component\n",
    "                if np.sum(connected[j, :]) == 1:\n",
    "                    for k in range(len(curr_cc)):\n",
    "                        if connected[j, k]:\n",
    "                            curr_component_values[k] = prev_component_values[j]\n",
    "                # prev_cc[j] is connected to multiple components in curr_cc.\n",
    "                # That means this is an IN event (we have hit a polygon).\n",
    "                elif np.sum(connected[j, :]) > 1:\n",
    "                    for k in range(len(curr_cc)):\n",
    "                        if connected[j, k]:\n",
    "                            num_components += 1\n",
    "                            curr_component_values[k] = num_components\n",
    "                            \n",
    "            for j in range(len(curr_cc)):\n",
    "                # curr_cc[j] is connected to multiple components in prev_cc.\n",
    "                # That means that this is an OUT event (we have just left a polygon).\n",
    "                if np.sum(connected[:, j]) > 1:\n",
    "                    num_components += 1\n",
    "                    curr_component_values[j] = num_components\n",
    "        \n",
    "        \n",
    "        # set the values for each component for the current column\n",
    "        for j in range(len(curr_cc)):\n",
    "            component = curr_cc[j]\n",
    "            component_value = curr_component_values[j]\n",
    "            partitioned_image[component[0] : component[1], i] = component_value\n",
    "        \n",
    "        prev_cc = curr_cc\n",
    "        prev_component_values = curr_component_values\n",
    "    \n",
    "    components = calculate_components(partitioned_image, num_components)\n",
    "    \n",
    "    return partitioned_image, components\n",
    "        "
   ]
  },
  {
   "cell_type": "code",
   "execution_count": 5,
   "metadata": {
    "scrolled": false
   },
   "outputs": [
    {
     "data": {
      "image/png": "[encoded data removed]",
      "text/plain": [
       "<Figure size 432x288 with 1 Axes>"
      ]
     },
     "metadata": {
      "needs_background": "light"
     },
     "output_type": "display_data"
    },
    {
     "data": {
      "image/png": "[encoded data removed]",
      "text/plain": [
       "<Figure size 432x288 with 1 Axes>"
      ]
     },
     "metadata": {
      "needs_background": "light"
     },
     "output_type": "display_data"
    }
   ],
   "source": [
    "partitioned_img, components = partition_image(img)\n",
    "plt.imshow(partitioned_img)\n",
    "\n",
    "H, W = partitioned_img.shape\n",
    "plt.figure()\n",
    "plt.ylim((H, 0))\n",
    "plt.xlim((0, W))\n",
    "\n",
    "for c in components:\n",
    "    c.plot(plt)\n",
    "    \n",
    "plt.show()"
   ]
  }
 ],
 "metadata": {
  "kernelspec": {
   "display_name": "Python 3",
   "language": "python",
   "name": "python3"
  },
  "language_info": {
   "codemirror_mode": {
    "name": "ipython",
    "version": 3
   },
   "file_extension": ".py",
   "mimetype": "text/x-python",
   "name": "python",
   "nbconvert_exporter": "python",
   "pygments_lexer": "ipython3",
   "version": "3.6.9"
  }
 },
 "nbformat": 4,
 "nbformat_minor": 2
}
